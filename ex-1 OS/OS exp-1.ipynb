{
 "cells": [
  {
   "cell_type": "code",
   "execution_count": 10,
   "id": "219eb466-e326-4cc0-860f-381c669eca54",
   "metadata": {},
   "outputs": [
    {
     "name": "stdin",
     "output_type": "stream",
     "text": [
      "Enter the number of processes:  3\n",
      "Enter burst time for process 1:  10\n",
      "Enter burst time for process 2:  15\n",
      "Enter burst time for process 3:  23\n"
     ]
    },
    {
     "name": "stdout",
     "output_type": "stream",
     "text": [
      "FCFS Scheduling:\n",
      "Process 1: Waiting Time = 0, Turnaround Time = 10\n",
      "Process 2: Waiting Time = 10, Turnaround Time = 25\n",
      "Process 3: Waiting Time = 25, Turnaround Time = 48\n",
      "Average Waiting Time: 11.67\n",
      "Average Turnaround Time: 27.67\n"
     ]
    }
   ],
   "source": [
    "class Process:\n",
    "    def __init__(self, pid, burst_time):\n",
    "        self.pid = pid \n",
    "        self.burst_time = burst_time  \n",
    "        self.waiting_time = 0  \n",
    "        self.turnaround_time = 0 \n",
    "\n",
    "def fcfs(processes):\n",
    "    n = len(processes) \n",
    "    \n",
    "    total_waiting_time = 0  \n",
    "    total_turnaround_time = 0\n",
    "    for i in range(1, n):\n",
    "        processes[i].waiting_time = processes[i - 1].waiting_time + processes[i - 1].burst_time\n",
    "\n",
    "    for process in processes:\n",
    "        process.turnaround_time = process.waiting_time + process.burst_time\n",
    "        total_waiting_time += process.waiting_time\n",
    "        total_turnaround_time += process.turnaround_time\n",
    "\n",
    "    print(\"FCFS Scheduling:\")\n",
    "    for process in processes:\n",
    "        print(f\"Process {process.pid}: Waiting Time = {process.waiting_time}, Turnaround Time = {process.turnaround_time}\")\n",
    "\n",
    "    print(f\"Average Waiting Time: {total_waiting_time / n:.2f}\")\n",
    "    print(f\"Average Turnaround Time: {total_turnaround_time / n:.2f}\")\n",
    "\n",
    "if __name__ == \"__main__\":\n",
    "    num_processes = int(input(\"Enter the number of processes: \"))\n",
    "    processes = []\n",
    "\n",
    "    for i in range(num_processes):\n",
    "        pid = i + 1\n",
    "        burst_time = int(input(f\"Enter burst time for process {pid}: \"))\n",
    "        \n",
    "        processes.append(Process(pid, burst_time))\n",
    "\n",
    "    fcfs(processes)\n"
   ]
  },
  {
   "cell_type": "code",
   "execution_count": 9,
   "id": "cc6e644c-a6aa-4344-a1fd-8581e29d9ea7",
   "metadata": {},
   "outputs": [
    {
     "name": "stdin",
     "output_type": "stream",
     "text": [
      "Enter the number of processes:  3\n",
      "Enter burst time for process 1:  10\n",
      "Enter burst time for process 2:  15\n",
      "Enter burst time for process 3:  23\n"
     ]
    },
    {
     "name": "stdout",
     "output_type": "stream",
     "text": [
      "SJF Scheduling:\n",
      "Process 1: Waiting Time = 0, Turnaround Time = 10\n",
      "Process 2: Waiting Time = 10, Turnaround Time = 25\n",
      "Process 3: Waiting Time = 25, Turnaround Time = 48\n",
      "Average Waiting Time: 11.67\n",
      "Average Turnaround Time: 27.67\n",
      "\n"
     ]
    }
   ],
   "source": [
    "class Process:\n",
    "    def __init__(self, pid, burst_time):\n",
    "        self.pid = pid\n",
    "        self.burst_time = burst_time\n",
    "        self.waiting_time = 0\n",
    "        self.turnaround_time = 0\n",
    "\n",
    "def sjf(processes):\n",
    "    n = len(processes)\n",
    "    processes.sort(key=lambda x: x.burst_time)\n",
    "\n",
    "    total_waiting_time = 0\n",
    "    total_turnaround_time = 0\n",
    "\n",
    "    for i in range(1, n):\n",
    "        processes[i].waiting_time = processes[i - 1].waiting_time + processes[i - 1].burst_time\n",
    "\n",
    "    for process in processes:\n",
    "        process.turnaround_time = process.waiting_time + process.burst_time\n",
    "        total_waiting_time += process.waiting_time\n",
    "        total_turnaround_time += process.turnaround_time\n",
    "\n",
    "    print(\"SJF Scheduling:\")\n",
    "    for process in processes:\n",
    "        print(f\"Process {process.pid}: Waiting Time = {process.waiting_time}, Turnaround Time = {process.turnaround_time}\")\n",
    "\n",
    "    print(f\"Average Waiting Time: {total_waiting_time / n:.2f}\")\n",
    "    print(f\"Average Turnaround Time: {total_turnaround_time / n:.2f}\")\n",
    "    print()\n",
    "\n",
    "if __name__ == \"__main__\":\n",
    "    num_processes = int(input(\"Enter the number of processes: \"))\n",
    "    processes = []\n",
    "\n",
    "    for i in range(num_processes):\n",
    "        pid = i + 1\n",
    "        burst_time = int(input(f\"Enter burst time for process {pid}: \"))\n",
    "        processes.append(Process(pid, burst_time))\n",
    "\n",
    "    sjf(processes)\n"
   ]
  },
  {
   "cell_type": "code",
   "execution_count": null,
   "id": "36c6c875-8728-402f-899f-a94ac3df6533",
   "metadata": {},
   "outputs": [],
   "source": []
  }
 ],
 "metadata": {
  "kernelspec": {
   "display_name": "Python 3 (ipykernel)",
   "language": "python",
   "name": "python3"
  },
  "language_info": {
   "codemirror_mode": {
    "name": "ipython",
    "version": 3
   },
   "file_extension": ".py",
   "mimetype": "text/x-python",
   "name": "python",
   "nbconvert_exporter": "python",
   "pygments_lexer": "ipython3",
   "version": "3.12.2"
  }
 },
 "nbformat": 4,
 "nbformat_minor": 5
}
